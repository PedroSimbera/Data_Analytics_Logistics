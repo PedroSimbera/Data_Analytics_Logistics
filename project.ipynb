{
 "cells": [
  {
   "cell_type": "markdown",
   "metadata": {},
   "source": [
    "# DATA ANALYTICS LOGISTICS"
   ]
  },
  {
   "cell_type": "code",
   "execution_count": 1,
   "metadata": {},
   "outputs": [],
   "source": [
    "import plotly.express as px\n",
    "import plotly.graph_objects as go\n",
    "import pandas as pd"
   ]
  },
  {
   "cell_type": "markdown",
   "metadata": {},
   "source": [
    "### Importando a base"
   ]
  },
  {
   "cell_type": "code",
   "execution_count": 22,
   "metadata": {},
   "outputs": [],
   "source": [
    "df = pd.read_csv(\"Base/bd.csv\")"
   ]
  },
  {
   "cell_type": "markdown",
   "metadata": {},
   "source": [
    "### Composição de coluna e head"
   ]
  },
  {
   "cell_type": "code",
   "execution_count": 23,
   "metadata": {},
   "outputs": [
    {
     "data": {
      "text/html": [
       "<div>\n",
       "<style scoped>\n",
       "    .dataframe tbody tr th:only-of-type {\n",
       "        vertical-align: middle;\n",
       "    }\n",
       "\n",
       "    .dataframe tbody tr th {\n",
       "        vertical-align: top;\n",
       "    }\n",
       "\n",
       "    .dataframe thead th {\n",
       "        text-align: right;\n",
       "    }\n",
       "</style>\n",
       "<table border=\"1\" class=\"dataframe\">\n",
       "  <thead>\n",
       "    <tr style=\"text-align: right;\">\n",
       "      <th></th>\n",
       "      <th>ID_transporte</th>\n",
       "      <th>data</th>\n",
       "      <th>tempo_viagem</th>\n",
       "      <th>velocidade_media</th>\n",
       "      <th>consumo_combustivel</th>\n",
       "      <th>carga_transportada</th>\n",
       "      <th>ID_motorista</th>\n",
       "      <th>feedback_cliente</th>\n",
       "    </tr>\n",
       "  </thead>\n",
       "  <tbody>\n",
       "    <tr>\n",
       "      <th>0</th>\n",
       "      <td>1</td>\n",
       "      <td>2022-01-01 08:15:00</td>\n",
       "      <td>30</td>\n",
       "      <td>60</td>\n",
       "      <td>10</td>\n",
       "      <td>100</td>\n",
       "      <td>101</td>\n",
       "      <td>4.5</td>\n",
       "    </tr>\n",
       "    <tr>\n",
       "      <th>1</th>\n",
       "      <td>2</td>\n",
       "      <td>2022-01-02 14:30:00</td>\n",
       "      <td>45</td>\n",
       "      <td>55</td>\n",
       "      <td>15</td>\n",
       "      <td>200</td>\n",
       "      <td>102</td>\n",
       "      <td>4.2</td>\n",
       "    </tr>\n",
       "    <tr>\n",
       "      <th>2</th>\n",
       "      <td>3</td>\n",
       "      <td>2022-01-02 10:45:00</td>\n",
       "      <td>20</td>\n",
       "      <td>40</td>\n",
       "      <td>8</td>\n",
       "      <td>50</td>\n",
       "      <td>103</td>\n",
       "      <td>4.8</td>\n",
       "    </tr>\n",
       "    <tr>\n",
       "      <th>3</th>\n",
       "      <td>4</td>\n",
       "      <td>2022-01-03 09:20:00</td>\n",
       "      <td>35</td>\n",
       "      <td>50</td>\n",
       "      <td>12</td>\n",
       "      <td>150</td>\n",
       "      <td>101</td>\n",
       "      <td>3.9</td>\n",
       "    </tr>\n",
       "    <tr>\n",
       "      <th>4</th>\n",
       "      <td>5</td>\n",
       "      <td>2022-01-04 12:10:00</td>\n",
       "      <td>50</td>\n",
       "      <td>45</td>\n",
       "      <td>18</td>\n",
       "      <td>250</td>\n",
       "      <td>104</td>\n",
       "      <td>4.6</td>\n",
       "    </tr>\n",
       "  </tbody>\n",
       "</table>\n",
       "</div>"
      ],
      "text/plain": [
       "   ID_transporte                 data  tempo_viagem  velocidade_media  \\\n",
       "0              1  2022-01-01 08:15:00            30                60   \n",
       "1              2  2022-01-02 14:30:00            45                55   \n",
       "2              3  2022-01-02 10:45:00            20                40   \n",
       "3              4  2022-01-03 09:20:00            35                50   \n",
       "4              5  2022-01-04 12:10:00            50                45   \n",
       "\n",
       "   consumo_combustivel  carga_transportada  ID_motorista  feedback_cliente  \n",
       "0                   10                 100           101               4.5  \n",
       "1                   15                 200           102               4.2  \n",
       "2                    8                  50           103               4.8  \n",
       "3                   12                 150           101               3.9  \n",
       "4                   18                 250           104               4.6  "
      ]
     },
     "execution_count": 23,
     "metadata": {},
     "output_type": "execute_result"
    }
   ],
   "source": [
    "df.head()"
   ]
  },
  {
   "cell_type": "markdown",
   "metadata": {},
   "source": [
    "### Tipos de dados"
   ]
  },
  {
   "cell_type": "code",
   "execution_count": 24,
   "metadata": {},
   "outputs": [
    {
     "name": "stdout",
     "output_type": "stream",
     "text": [
      "<class 'pandas.core.frame.DataFrame'>\n",
      "RangeIndex: 100 entries, 0 to 99\n",
      "Data columns (total 8 columns):\n",
      " #   Column               Non-Null Count  Dtype  \n",
      "---  ------               --------------  -----  \n",
      " 0   ID_transporte        100 non-null    int64  \n",
      " 1   data                 100 non-null    object \n",
      " 2   tempo_viagem         100 non-null    int64  \n",
      " 3   velocidade_media     100 non-null    int64  \n",
      " 4   consumo_combustivel  100 non-null    int64  \n",
      " 5   carga_transportada   100 non-null    int64  \n",
      " 6   ID_motorista         100 non-null    int64  \n",
      " 7   feedback_cliente     100 non-null    float64\n",
      "dtypes: float64(1), int64(6), object(1)\n",
      "memory usage: 6.4+ KB\n"
     ]
    }
   ],
   "source": [
    "df.info()"
   ]
  },
  {
   "cell_type": "markdown",
   "metadata": {},
   "source": [
    "### Principais informações sobre a base"
   ]
  },
  {
   "cell_type": "code",
   "execution_count": 25,
   "metadata": {},
   "outputs": [
    {
     "data": {
      "text/html": [
       "<div>\n",
       "<style scoped>\n",
       "    .dataframe tbody tr th:only-of-type {\n",
       "        vertical-align: middle;\n",
       "    }\n",
       "\n",
       "    .dataframe tbody tr th {\n",
       "        vertical-align: top;\n",
       "    }\n",
       "\n",
       "    .dataframe thead th {\n",
       "        text-align: right;\n",
       "    }\n",
       "</style>\n",
       "<table border=\"1\" class=\"dataframe\">\n",
       "  <thead>\n",
       "    <tr style=\"text-align: right;\">\n",
       "      <th></th>\n",
       "      <th>ID_transporte</th>\n",
       "      <th>tempo_viagem</th>\n",
       "      <th>velocidade_media</th>\n",
       "      <th>consumo_combustivel</th>\n",
       "      <th>carga_transportada</th>\n",
       "      <th>ID_motorista</th>\n",
       "      <th>feedback_cliente</th>\n",
       "    </tr>\n",
       "  </thead>\n",
       "  <tbody>\n",
       "    <tr>\n",
       "      <th>count</th>\n",
       "      <td>100.000000</td>\n",
       "      <td>100.000000</td>\n",
       "      <td>100.00000</td>\n",
       "      <td>100.000000</td>\n",
       "      <td>100.000000</td>\n",
       "      <td>100.000000</td>\n",
       "      <td>100.000000</td>\n",
       "    </tr>\n",
       "    <tr>\n",
       "      <th>mean</th>\n",
       "      <td>50.500000</td>\n",
       "      <td>39.750000</td>\n",
       "      <td>46.85000</td>\n",
       "      <td>13.490000</td>\n",
       "      <td>165.800000</td>\n",
       "      <td>104.250000</td>\n",
       "      <td>4.458000</td>\n",
       "    </tr>\n",
       "    <tr>\n",
       "      <th>std</th>\n",
       "      <td>29.011492</td>\n",
       "      <td>9.544553</td>\n",
       "      <td>7.83849</td>\n",
       "      <td>3.355969</td>\n",
       "      <td>64.810212</td>\n",
       "      <td>2.266912</td>\n",
       "      <td>0.280036</td>\n",
       "    </tr>\n",
       "    <tr>\n",
       "      <th>min</th>\n",
       "      <td>1.000000</td>\n",
       "      <td>20.000000</td>\n",
       "      <td>35.00000</td>\n",
       "      <td>8.000000</td>\n",
       "      <td>50.000000</td>\n",
       "      <td>101.000000</td>\n",
       "      <td>3.700000</td>\n",
       "    </tr>\n",
       "    <tr>\n",
       "      <th>25%</th>\n",
       "      <td>25.750000</td>\n",
       "      <td>30.000000</td>\n",
       "      <td>40.00000</td>\n",
       "      <td>10.000000</td>\n",
       "      <td>100.000000</td>\n",
       "      <td>102.000000</td>\n",
       "      <td>4.200000</td>\n",
       "    </tr>\n",
       "    <tr>\n",
       "      <th>50%</th>\n",
       "      <td>50.500000</td>\n",
       "      <td>40.000000</td>\n",
       "      <td>45.00000</td>\n",
       "      <td>13.000000</td>\n",
       "      <td>150.000000</td>\n",
       "      <td>104.000000</td>\n",
       "      <td>4.500000</td>\n",
       "    </tr>\n",
       "    <tr>\n",
       "      <th>75%</th>\n",
       "      <td>75.250000</td>\n",
       "      <td>46.250000</td>\n",
       "      <td>51.25000</td>\n",
       "      <td>15.500000</td>\n",
       "      <td>205.000000</td>\n",
       "      <td>106.000000</td>\n",
       "      <td>4.700000</td>\n",
       "    </tr>\n",
       "    <tr>\n",
       "      <th>max</th>\n",
       "      <td>100.000000</td>\n",
       "      <td>55.000000</td>\n",
       "      <td>60.00000</td>\n",
       "      <td>20.000000</td>\n",
       "      <td>300.000000</td>\n",
       "      <td>108.000000</td>\n",
       "      <td>4.900000</td>\n",
       "    </tr>\n",
       "  </tbody>\n",
       "</table>\n",
       "</div>"
      ],
      "text/plain": [
       "       ID_transporte  tempo_viagem  velocidade_media  consumo_combustivel  \\\n",
       "count     100.000000    100.000000         100.00000           100.000000   \n",
       "mean       50.500000     39.750000          46.85000            13.490000   \n",
       "std        29.011492      9.544553           7.83849             3.355969   \n",
       "min         1.000000     20.000000          35.00000             8.000000   \n",
       "25%        25.750000     30.000000          40.00000            10.000000   \n",
       "50%        50.500000     40.000000          45.00000            13.000000   \n",
       "75%        75.250000     46.250000          51.25000            15.500000   \n",
       "max       100.000000     55.000000          60.00000            20.000000   \n",
       "\n",
       "       carga_transportada  ID_motorista  feedback_cliente  \n",
       "count          100.000000    100.000000        100.000000  \n",
       "mean           165.800000    104.250000          4.458000  \n",
       "std             64.810212      2.266912          0.280036  \n",
       "min             50.000000    101.000000          3.700000  \n",
       "25%            100.000000    102.000000          4.200000  \n",
       "50%            150.000000    104.000000          4.500000  \n",
       "75%            205.000000    106.000000          4.700000  \n",
       "max            300.000000    108.000000          4.900000  "
      ]
     },
     "execution_count": 25,
     "metadata": {},
     "output_type": "execute_result"
    }
   ],
   "source": [
    "df.describe()"
   ]
  },
  {
   "cell_type": "markdown",
   "metadata": {},
   "source": [
    "### Verificando a presenção de dados faltantes"
   ]
  },
  {
   "cell_type": "code",
   "execution_count": 26,
   "metadata": {},
   "outputs": [
    {
     "data": {
      "text/plain": [
       "ID_transporte          0\n",
       "data                   0\n",
       "tempo_viagem           0\n",
       "velocidade_media       0\n",
       "consumo_combustivel    0\n",
       "carga_transportada     0\n",
       "ID_motorista           0\n",
       "feedback_cliente       0\n",
       "dtype: int64"
      ]
     },
     "execution_count": 26,
     "metadata": {},
     "output_type": "execute_result"
    }
   ],
   "source": [
    "df.isna().sum()"
   ]
  },
  {
   "cell_type": "markdown",
   "metadata": {},
   "source": [
    "### Observar alguns comportamentos iniciais dos dados"
   ]
  },
  {
   "cell_type": "markdown",
   "metadata": {},
   "source": [
    "#### Existem 11 tipos de cargas a serem transportadas\n",
    "\n",
    "##### Podemos observar algumas tendências para cada tipo de carga"
   ]
  },
  {
   "cell_type": "code",
   "execution_count": 27,
   "metadata": {},
   "outputs": [
    {
     "data": {
      "text/plain": [
       "array([100, 200,  50, 150, 250,  80, 180, 300, 120, 220, 280], dtype=int64)"
      ]
     },
     "execution_count": 27,
     "metadata": {},
     "output_type": "execute_result"
    }
   ],
   "source": [
    "df['carga_transportada'].unique()"
   ]
  },
  {
   "cell_type": "code",
   "execution_count": 54,
   "metadata": {},
   "outputs": [],
   "source": [
    "def DescricaoBasica(Column):\n",
    "    media = df[Column].mean()  \n",
    "    mediana = df[Column].median()  \n",
    "    desvio_padrao = df[Column].std() \n",
    "    min = df[Column].min() \n",
    "    max = df[Column].max() \n",
    "\n",
    "    return {\n",
    "        'Média': media,\n",
    "        'Mediana': mediana,\n",
    "        'Desvio Padrão': desvio_padrao,\n",
    "        'Mínimo': min,\n",
    "        'Máximo': max\n",
    "    }"
   ]
  },
  {
   "cell_type": "code",
   "execution_count": 55,
   "metadata": {},
   "outputs": [
    {
     "data": {
      "text/plain": [
       "{'Média': 13.49,\n",
       " 'Mediana': 13.0,\n",
       " 'Desvio Padrão': 3.355968601242457,\n",
       " 'Mínimo': 8,\n",
       " 'Máximo': 20}"
      ]
     },
     "execution_count": 55,
     "metadata": {},
     "output_type": "execute_result"
    }
   ],
   "source": [
    "DescricaoBasica('consumo_combustivel')"
   ]
  },
  {
   "cell_type": "code",
   "execution_count": 56,
   "metadata": {},
   "outputs": [
    {
     "data": {
      "text/plain": [
       "{'Média': 4.458,\n",
       " 'Mediana': 4.5,\n",
       " 'Desvio Padrão': 0.28003607271243114,\n",
       " 'Mínimo': 3.7,\n",
       " 'Máximo': 4.9}"
      ]
     },
     "execution_count": 56,
     "metadata": {},
     "output_type": "execute_result"
    }
   ],
   "source": [
    "DescricaoBasica('feedback_cliente')"
   ]
  },
  {
   "cell_type": "code",
   "execution_count": 57,
   "metadata": {},
   "outputs": [
    {
     "data": {
      "text/plain": [
       "{'Média': 39.75,\n",
       " 'Mediana': 40.0,\n",
       " 'Desvio Padrão': 9.544552626943016,\n",
       " 'Mínimo': 20,\n",
       " 'Máximo': 55}"
      ]
     },
     "execution_count": 57,
     "metadata": {},
     "output_type": "execute_result"
    }
   ],
   "source": [
    "DescricaoBasica('tempo_viagem')"
   ]
  },
  {
   "cell_type": "code",
   "execution_count": 58,
   "metadata": {},
   "outputs": [
    {
     "data": {
      "text/plain": [
       "{'Média': 46.85,\n",
       " 'Mediana': 45.0,\n",
       " 'Desvio Padrão': 7.838489598890795,\n",
       " 'Mínimo': 35,\n",
       " 'Máximo': 60}"
      ]
     },
     "execution_count": 58,
     "metadata": {},
     "output_type": "execute_result"
    }
   ],
   "source": [
    "DescricaoBasica('velocidade_media')"
   ]
  }
 ],
 "metadata": {
  "kernelspec": {
   "display_name": "Python 3",
   "language": "python",
   "name": "python3"
  },
  "language_info": {
   "codemirror_mode": {
    "name": "ipython",
    "version": 3
   },
   "file_extension": ".py",
   "mimetype": "text/x-python",
   "name": "python",
   "nbconvert_exporter": "python",
   "pygments_lexer": "ipython3",
   "version": "3.11.2"
  }
 },
 "nbformat": 4,
 "nbformat_minor": 2
}
